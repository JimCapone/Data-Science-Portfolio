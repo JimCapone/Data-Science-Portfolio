{
 "cells": [
  {
   "cell_type": "markdown",
   "id": "47cbf20c-1415-461d-ae61-76138866d07f",
   "metadata": {},
   "source": [
    "# Which Mushroom Can You Eat?\n",
    "\n",
    "### James Capone\n",
    "\n",
    "### April 2025"
   ]
  },
  {
   "cell_type": "markdown",
   "id": "913b5127-e9a4-42f7-bdce-25bd72de1be5",
   "metadata": {},
   "source": [
    "<center><img src=\"mushroom_picture.jpg\"/></center>"
   ]
  },
  {
   "cell_type": "markdown",
   "id": "1d7af79a-dfdf-4cea-82cf-465fd6664f42",
   "metadata": {},
   "source": [
    "# Introduction\n",
    "\n",
    "\n",
    "This data inquiry will be an investigation of Agaricus Lepiota mushrooms. This mushroom subset can differ in characteristic features and measurements, potentially leading to misclassifications of the exact species. This classification error can turn tragic when learning that one major feature difference between Lepiota species is the presence of poison. Some mushrooms within this genus contain lethal amounts of poison when ingested, while other species in the same group can be safely consumed. Having a way to accurately classify Agaricus Lepiota mushrooms can be the difference between life and death. Therefore, **our goal is to create a neural network model that can classify the mushrooms into their correct toxicity group (binary).**\n",
    "\n",
    "During the model assembly process, we will focus on three neural network variations to determine the effects of model differences in design. All models will be fairly simple Sequential Neural Networks focusing on solving the classification problem with the least amount of neural layers possible. The first design will be a baseline model composing of all the mushroom features. The second model will incorporate Principal Component Analysis (PCA) on the data, determining how this dimensionality reduction method impacts the neural network. The last model has been deemed the Survival Model. I wanted to create a model that could be taken as a potential hiking tool, classifying the lethality of a mushroom one had come across (assuming that every mushroom is within the Agaricus Lepiota family). For the Survival Model, the mushroom dataset had features removed that would require domain knowledge on Agaricus Lepiota mushrooms, specifically the **veil_type** and **ring_type** features. All other mushroom characteristic information can be gathered from any individual with basic senses (sight and smell).\n",
    "\n",
    "\n",
    "**When designing the model, we have to be mindful of the context of our problem. To reiterate, we are trying to classify mushrooms as poisonous or edible based on the common characteristics of each mushroom type. In order to prevent individuals from eating poisonous mushrooms provided from a false negative model result, we will be trying to maximize the total accuracy**. In some cases, it is beneficial for a machine learning model to retain errors in training, such as the model's ability to generalize better to unseen data. However, for these neural network models, we will aim to maximize accuracy while minding the concept of overfitting. As one will see, we are able to successfully assign all test samples into their correct toxicity groups for each model.\n"
   ]
  },
  {
   "cell_type": "code",
   "execution_count": 1,
   "id": "b8ab2ce7-2a72-454d-b3d1-c9916c60f9b7",
   "metadata": {},
   "outputs": [],
   "source": [
    "# loading basic packages\n",
    "import pandas as pd\n",
    "import numpy as np\n",
    "%matplotlib inline\n",
    "import matplotlib.pyplot as plt\n",
    "import seaborn as sns\n",
    "import warnings\n",
    "warnings.filterwarnings('ignore')"
   ]
  },
  {
   "cell_type": "markdown",
   "id": "cdc5bbd1-6354-49f5-9d78-4ca4a8d2b5cd",
   "metadata": {},
   "source": [
    "## Importing the Mushroom Data\n",
    "\n",
    "The mushroom data was provided by Eastern University (my alma mater). It is composed of 8124 rows and 23 columns. Each row corresponds to an individual mushroom observation and each column represents a different feature about the mushroom. \n",
    "\n",
    "In order to prepare for the model assembly the mushroom data will be imported, cleaned, split into training and testing groups, transformed, and processed through a Sequential neural network. The results of the model will be visualized using a confusion matrix to ensure its effectiveness in classifying mushrooms as poisonous or edible.\n",
    "\n",
    "The **target response** is the **class** column. This column holds the information on the poisonous value of each mushroom (e = edible, p = poisonous). The other columns are features of the mushroom that will be used in the neural network model to predict the toxicity of each mushrooms. \n"
   ]
  },
  {
   "cell_type": "code",
   "execution_count": 2,
   "id": "948e3a59-a044-4c7d-81d0-83e1e4905258",
   "metadata": {},
   "outputs": [],
   "source": [
    "pd.set_option('display.max_rows', 50)\n",
    "pd.set_option('display.max_columns', None)\n",
    "\n",
    "# loading dataset with specified column names\n",
    "\n",
    "mushroom_data = pd.read_csv('agaricus-lepiota.csv', names = ['class', 'cap_shape', 'cap_surface', 'cap_color', 'bruises', 'odor', \n",
    "                                                            'gill_attachment', 'gill_spacing', 'gill_size', 'gill_color', 'stalk_shape',\n",
    "                                                            'stalk_root', 'stalk_surface_above_ring', 'stalk_surface_below_ring',\n",
    "                                                            'stalk_color_above_ring', 'stalk_color_below_ring', 'veil_type',\n",
    "                                                            'veil_color', 'ring_number', 'ring_type', 'spore_print_color',\n",
    "                                                            'population', 'habitat'])"
   ]
  },
  {
   "cell_type": "markdown",
   "id": "cd88c244-657b-4cff-8b4a-5fda6652594a",
   "metadata": {},
   "source": [
    "## Exploring the Data\n",
    "\n",
    "After examining the mushroom dataset, we can determine the data contains zero null values or have been properly handled prior to acquisition. In other words, we are working with a clean dataset."
   ]
  },
  {
   "cell_type": "code",
   "execution_count": 4,
   "id": "c02baf7b-a25a-4ca0-a915-541cfcbebdd4",
   "metadata": {},
   "outputs": [
    {
     "name": "stdout",
     "output_type": "stream",
     "text": [
      "<class 'pandas.core.frame.DataFrame'>\n",
      "RangeIndex: 8124 entries, 0 to 8123\n",
      "Data columns (total 23 columns):\n",
      " #   Column                    Non-Null Count  Dtype \n",
      "---  ------                    --------------  ----- \n",
      " 0   class                     8124 non-null   object\n",
      " 1   cap_shape                 8124 non-null   object\n",
      " 2   cap_surface               8124 non-null   object\n",
      " 3   cap_color                 8124 non-null   object\n",
      " 4   bruises                   8124 non-null   object\n",
      " 5   odor                      8124 non-null   object\n",
      " 6   gill_attachment           8124 non-null   object\n",
      " 7   gill_spacing              8124 non-null   object\n",
      " 8   gill_size                 8124 non-null   object\n",
      " 9   gill_color                8124 non-null   object\n",
      " 10  stalk_shape               8124 non-null   object\n",
      " 11  stalk_root                8124 non-null   object\n",
      " 12  stalk_surface_above_ring  8124 non-null   object\n",
      " 13  stalk_surface_below_ring  8124 non-null   object\n",
      " 14  stalk_color_above_ring    8124 non-null   object\n",
      " 15  stalk_color_below_ring    8124 non-null   object\n",
      " 16  veil_type                 8124 non-null   object\n",
      " 17  veil_color                8124 non-null   object\n",
      " 18  ring_number               8124 non-null   object\n",
      " 19  ring_type                 8124 non-null   object\n",
      " 20  spore_print_color         8124 non-null   object\n",
      " 21  population                8124 non-null   object\n",
      " 22  habitat                   8124 non-null   object\n",
      "dtypes: object(23)\n",
      "memory usage: 1.4+ MB\n"
     ]
    }
   ],
   "source": [
    "mushroom_data.info()"
   ]
  },
  {
   "cell_type": "code",
   "execution_count": 5,
   "id": "a51bbdb9-1d12-4bce-acc3-a7f047ffa23f",
   "metadata": {},
   "outputs": [
    {
     "data": {
      "text/html": [
       "<div>\n",
       "<style scoped>\n",
       "    .dataframe tbody tr th:only-of-type {\n",
       "        vertical-align: middle;\n",
       "    }\n",
       "\n",
       "    .dataframe tbody tr th {\n",
       "        vertical-align: top;\n",
       "    }\n",
       "\n",
       "    .dataframe thead th {\n",
       "        text-align: right;\n",
       "    }\n",
       "</style>\n",
       "<table border=\"1\" class=\"dataframe\">\n",
       "  <thead>\n",
       "    <tr style=\"text-align: right;\">\n",
       "      <th></th>\n",
       "      <th>class</th>\n",
       "      <th>cap_shape</th>\n",
       "      <th>cap_surface</th>\n",
       "      <th>cap_color</th>\n",
       "      <th>bruises</th>\n",
       "      <th>odor</th>\n",
       "      <th>gill_attachment</th>\n",
       "      <th>gill_spacing</th>\n",
       "      <th>gill_size</th>\n",
       "      <th>gill_color</th>\n",
       "      <th>stalk_shape</th>\n",
       "      <th>stalk_root</th>\n",
       "      <th>stalk_surface_above_ring</th>\n",
       "      <th>stalk_surface_below_ring</th>\n",
       "      <th>stalk_color_above_ring</th>\n",
       "      <th>stalk_color_below_ring</th>\n",
       "      <th>veil_type</th>\n",
       "      <th>veil_color</th>\n",
       "      <th>ring_number</th>\n",
       "      <th>ring_type</th>\n",
       "      <th>spore_print_color</th>\n",
       "      <th>population</th>\n",
       "      <th>habitat</th>\n",
       "    </tr>\n",
       "  </thead>\n",
       "  <tbody>\n",
       "    <tr>\n",
       "      <th>count</th>\n",
       "      <td>8124</td>\n",
       "      <td>8124</td>\n",
       "      <td>8124</td>\n",
       "      <td>8124</td>\n",
       "      <td>8124</td>\n",
       "      <td>8124</td>\n",
       "      <td>8124</td>\n",
       "      <td>8124</td>\n",
       "      <td>8124</td>\n",
       "      <td>8124</td>\n",
       "      <td>8124</td>\n",
       "      <td>8124</td>\n",
       "      <td>8124</td>\n",
       "      <td>8124</td>\n",
       "      <td>8124</td>\n",
       "      <td>8124</td>\n",
       "      <td>8124</td>\n",
       "      <td>8124</td>\n",
       "      <td>8124</td>\n",
       "      <td>8124</td>\n",
       "      <td>8124</td>\n",
       "      <td>8124</td>\n",
       "      <td>8124</td>\n",
       "    </tr>\n",
       "    <tr>\n",
       "      <th>unique</th>\n",
       "      <td>2</td>\n",
       "      <td>6</td>\n",
       "      <td>4</td>\n",
       "      <td>10</td>\n",
       "      <td>2</td>\n",
       "      <td>9</td>\n",
       "      <td>2</td>\n",
       "      <td>2</td>\n",
       "      <td>2</td>\n",
       "      <td>12</td>\n",
       "      <td>2</td>\n",
       "      <td>4</td>\n",
       "      <td>4</td>\n",
       "      <td>4</td>\n",
       "      <td>9</td>\n",
       "      <td>9</td>\n",
       "      <td>1</td>\n",
       "      <td>4</td>\n",
       "      <td>3</td>\n",
       "      <td>5</td>\n",
       "      <td>9</td>\n",
       "      <td>6</td>\n",
       "      <td>7</td>\n",
       "    </tr>\n",
       "    <tr>\n",
       "      <th>top</th>\n",
       "      <td>e</td>\n",
       "      <td>x</td>\n",
       "      <td>y</td>\n",
       "      <td>n</td>\n",
       "      <td>f</td>\n",
       "      <td>n</td>\n",
       "      <td>f</td>\n",
       "      <td>c</td>\n",
       "      <td>b</td>\n",
       "      <td>b</td>\n",
       "      <td>t</td>\n",
       "      <td>b</td>\n",
       "      <td>s</td>\n",
       "      <td>s</td>\n",
       "      <td>w</td>\n",
       "      <td>w</td>\n",
       "      <td>p</td>\n",
       "      <td>w</td>\n",
       "      <td>o</td>\n",
       "      <td>p</td>\n",
       "      <td>w</td>\n",
       "      <td>v</td>\n",
       "      <td>d</td>\n",
       "    </tr>\n",
       "    <tr>\n",
       "      <th>freq</th>\n",
       "      <td>4208</td>\n",
       "      <td>3656</td>\n",
       "      <td>3244</td>\n",
       "      <td>2284</td>\n",
       "      <td>4748</td>\n",
       "      <td>3528</td>\n",
       "      <td>7914</td>\n",
       "      <td>6812</td>\n",
       "      <td>5612</td>\n",
       "      <td>1728</td>\n",
       "      <td>4608</td>\n",
       "      <td>5848</td>\n",
       "      <td>5176</td>\n",
       "      <td>4936</td>\n",
       "      <td>4464</td>\n",
       "      <td>4384</td>\n",
       "      <td>8124</td>\n",
       "      <td>7924</td>\n",
       "      <td>7488</td>\n",
       "      <td>3968</td>\n",
       "      <td>2388</td>\n",
       "      <td>4040</td>\n",
       "      <td>3148</td>\n",
       "    </tr>\n",
       "  </tbody>\n",
       "</table>\n",
       "</div>"
      ],
      "text/plain": [
       "       class cap_shape cap_surface cap_color bruises  odor gill_attachment  \\\n",
       "count   8124      8124        8124      8124    8124  8124            8124   \n",
       "unique     2         6           4        10       2     9               2   \n",
       "top        e         x           y         n       f     n               f   \n",
       "freq    4208      3656        3244      2284    4748  3528            7914   \n",
       "\n",
       "       gill_spacing gill_size gill_color stalk_shape stalk_root  \\\n",
       "count          8124      8124       8124        8124       8124   \n",
       "unique            2         2         12           2          4   \n",
       "top               c         b          b           t          b   \n",
       "freq           6812      5612       1728        4608       5848   \n",
       "\n",
       "       stalk_surface_above_ring stalk_surface_below_ring  \\\n",
       "count                      8124                     8124   \n",
       "unique                        4                        4   \n",
       "top                           s                        s   \n",
       "freq                       5176                     4936   \n",
       "\n",
       "       stalk_color_above_ring stalk_color_below_ring veil_type veil_color  \\\n",
       "count                    8124                   8124      8124       8124   \n",
       "unique                      9                      9         1          4   \n",
       "top                         w                      w         p          w   \n",
       "freq                     4464                   4384      8124       7924   \n",
       "\n",
       "       ring_number ring_type spore_print_color population habitat  \n",
       "count         8124      8124              8124       8124    8124  \n",
       "unique           3         5                 9          6       7  \n",
       "top              o         p                 w          v       d  \n",
       "freq          7488      3968              2388       4040    3148  "
      ]
     },
     "execution_count": 5,
     "metadata": {},
     "output_type": "execute_result"
    }
   ],
   "source": [
    "mushroom_data.describe()"
   ]
  },
  {
   "cell_type": "code",
   "execution_count": 6,
   "id": "02ae8609-a3a9-488a-8caa-98702375f130",
   "metadata": {},
   "outputs": [
    {
     "data": {
      "text/html": [
       "<div>\n",
       "<style scoped>\n",
       "    .dataframe tbody tr th:only-of-type {\n",
       "        vertical-align: middle;\n",
       "    }\n",
       "\n",
       "    .dataframe tbody tr th {\n",
       "        vertical-align: top;\n",
       "    }\n",
       "\n",
       "    .dataframe thead th {\n",
       "        text-align: right;\n",
       "    }\n",
       "</style>\n",
       "<table border=\"1\" class=\"dataframe\">\n",
       "  <thead>\n",
       "    <tr style=\"text-align: right;\">\n",
       "      <th></th>\n",
       "      <th>class</th>\n",
       "      <th>cap_shape</th>\n",
       "      <th>cap_surface</th>\n",
       "      <th>cap_color</th>\n",
       "      <th>bruises</th>\n",
       "      <th>odor</th>\n",
       "      <th>gill_attachment</th>\n",
       "      <th>gill_spacing</th>\n",
       "      <th>gill_size</th>\n",
       "      <th>gill_color</th>\n",
       "      <th>stalk_shape</th>\n",
       "      <th>stalk_root</th>\n",
       "      <th>stalk_surface_above_ring</th>\n",
       "      <th>stalk_surface_below_ring</th>\n",
       "      <th>stalk_color_above_ring</th>\n",
       "      <th>stalk_color_below_ring</th>\n",
       "      <th>veil_type</th>\n",
       "      <th>veil_color</th>\n",
       "      <th>ring_number</th>\n",
       "      <th>ring_type</th>\n",
       "      <th>spore_print_color</th>\n",
       "      <th>population</th>\n",
       "      <th>habitat</th>\n",
       "    </tr>\n",
       "  </thead>\n",
       "  <tbody>\n",
       "  </tbody>\n",
       "</table>\n",
       "</div>"
      ],
      "text/plain": [
       "Empty DataFrame\n",
       "Columns: [class, cap_shape, cap_surface, cap_color, bruises, odor, gill_attachment, gill_spacing, gill_size, gill_color, stalk_shape, stalk_root, stalk_surface_above_ring, stalk_surface_below_ring, stalk_color_above_ring, stalk_color_below_ring, veil_type, veil_color, ring_number, ring_type, spore_print_color, population, habitat]\n",
       "Index: []"
      ]
     },
     "execution_count": 6,
     "metadata": {},
     "output_type": "execute_result"
    }
   ],
   "source": [
    "# '?' was denoted as missing data in the data dictionary\n",
    "\n",
    "mushroom_data[mushroom_data['stalk_root'] == '?']\n",
    "\n",
    "# zero rows returned"
   ]
  },
  {
   "cell_type": "markdown",
   "id": "43d64c8f-3ced-4079-a41e-7fd1cee5a6c7",
   "metadata": {},
   "source": [
    "## Splitting the Data\n",
    "\n",
    "The **mushroom_data** dataset will be split into a 80% training set and 20% test set. This will ensure that we can test our model using data samples without having to resample new mushrooms.\n",
    "\n",
    "First, we must separate our target variable, **class**, from the other features."
   ]
  },
  {
   "cell_type": "code",
   "execution_count": 7,
   "id": "00c23758-192e-49d1-9c92-931a4a355626",
   "metadata": {},
   "outputs": [],
   "source": [
    "# mushroom features\n",
    "features = mushroom_data.drop('class', axis = 1)\n",
    "\n",
    "# target feature\n",
    "target = mushroom_data['class']"
   ]
  },
  {
   "cell_type": "markdown",
   "id": "5c0da166-77d0-4b0e-b1de-f78877b9c9aa",
   "metadata": {},
   "source": [
    "As seen in the data dictionary, because the representation of poisonous mushrooms is roughly even at 48.2% amongst all mushrooms, there is no need to stratify the target variable during splitting."
   ]
  },
  {
   "cell_type": "code",
   "execution_count": 8,
   "id": "d8a543e2-33a1-415c-8ba4-11045b1c5ad3",
   "metadata": {},
   "outputs": [],
   "source": [
    "from sklearn.model_selection import train_test_split\n",
    "\n",
    "# splitting the data into train and test sets\n",
    "x_train, x_test, y_train, y_test = train_test_split(features, target, test_size = 0.2, random_state = 0)"
   ]
  },
  {
   "cell_type": "markdown",
   "id": "3c5da23b-700e-473d-a6bb-e8c573f9d179",
   "metadata": {},
   "source": [
    "## Transforming the Data\n",
    "\n",
    "After the data has been split, we will need to prepare the data for model insertion. Specifically, we will need change the values from strings (i.e., letters) representing characteristics, to numeric values that can be interpreted by the neural network model. To accomplish this task, we will utilize **One-Hot Encoding** for the mushroom features and **Label Encoding** for the target variable.\n"
   ]
  },
  {
   "cell_type": "code",
   "execution_count": 9,
   "id": "baaf7834-8ab6-4b1c-bc6a-73887ec6b637",
   "metadata": {},
   "outputs": [],
   "source": [
    "from sklearn.preprocessing import OneHotEncoder\n",
    "\n",
    "# One-Hot Encoding training characteristic features\n",
    "one_encoder = OneHotEncoder(sparse_output = False)\n",
    "\n",
    "x_train = one_encoder.fit_transform(x_train)\n",
    "\n",
    "# One-Hot Encoding testing characteristic features\n",
    "\n",
    "x_test = one_encoder.transform(x_test)"
   ]
  },
  {
   "cell_type": "code",
   "execution_count": 10,
   "id": "7df1041d-dc3c-48fd-a11b-ec8964b19cd3",
   "metadata": {},
   "outputs": [],
   "source": [
    "from sklearn.preprocessing import LabelEncoder\n",
    "\n",
    "# Label Encoding target training feature\n",
    "lab_encoder = LabelEncoder()\n",
    "\n",
    "y_train = lab_encoder.fit_transform(y_train)\n",
    "\n",
    "# Label Encoding target testing feature\n",
    "\n",
    "y_test = lab_encoder.transform(y_test)"
   ]
  },
  {
   "cell_type": "markdown",
   "id": "cc632a2c-b187-4bcb-b3b0-ea8e3aa9a1ac",
   "metadata": {},
   "source": [
    "## Assembling Neural Network\n",
    "\n",
    "Now that our training data has been prepared in the desired format, we will begin assembling the base neural network model. Our model will be a Sequential Neural Network that consists of one input layer and one output layer.\n",
    "\n",
    "Because we are looking to classify the mushroom as either poisonous or edible, we will be building a neural network designated for binary classification."
   ]
  },
  {
   "cell_type": "code",
   "execution_count": 11,
   "id": "53e09da1-0eb9-4d28-bcc9-c05343fb0d99",
   "metadata": {},
   "outputs": [
    {
     "data": {
      "text/plain": [
       "(6499, 116)"
      ]
     },
     "execution_count": 11,
     "metadata": {},
     "output_type": "execute_result"
    }
   ],
   "source": [
    "x_train.shape"
   ]
  },
  {
   "cell_type": "markdown",
   "id": "62cf67b6-27fa-4db4-b21d-fe6f27e8b9fe",
   "metadata": {},
   "source": [
    "Since our training data (**x_train**) now contains 116 columns, due to One-Hot Encoding, the input layer for the neural network will require 116 input neurons."
   ]
  },
  {
   "cell_type": "markdown",
   "id": "bf4605f4-937a-4b0a-83ff-89e90050a09c",
   "metadata": {},
   "source": [
    "# Base Model"
   ]
  },
  {
   "cell_type": "code",
   "execution_count": 12,
   "id": "ea931b48-9f73-4b49-894d-88dbd0b48992",
   "metadata": {},
   "outputs": [],
   "source": [
    "from tensorflow.keras.layers import Dense\n",
    "from tensorflow.keras.models import Sequential\n",
    "\n",
    "\n",
    "# building the binary classification neural network\n",
    "model = Sequential()\n",
    "model.add(Dense(1, activation = 'sigmoid', input_dim = 116))\n",
    "\n",
    "# compile neural network model\n",
    "model.compile(loss = 'binary_crossentropy', optimizer = 'adam', metrics = ['accuracy'])"
   ]
  },
  {
   "cell_type": "markdown",
   "id": "ce21f36d-560b-4f52-9b44-578b24b18e93",
   "metadata": {},
   "source": [
    "Based on the specifications for the neural network parameters (one input layer and one output layer), there are 117 trainable parameters in the model."
   ]
  },
  {
   "cell_type": "code",
   "execution_count": 13,
   "id": "43242edd-a81f-43fb-8a90-bd6671531d3f",
   "metadata": {},
   "outputs": [
    {
     "name": "stdout",
     "output_type": "stream",
     "text": [
      "Model: \"sequential\"\n",
      "_________________________________________________________________\n",
      " Layer (type)                Output Shape              Param #   \n",
      "=================================================================\n",
      " dense (Dense)               (None, 1)                 117       \n",
      "                                                                 \n",
      "=================================================================\n",
      "Total params: 117\n",
      "Trainable params: 117\n",
      "Non-trainable params: 0\n",
      "_________________________________________________________________\n"
     ]
    }
   ],
   "source": [
    "model.summary()"
   ]
  },
  {
   "cell_type": "markdown",
   "id": "d09561da-74d0-4e7a-9a2b-be9e669a2940",
   "metadata": {},
   "source": [
    "### Fitting the Model\n",
    "\n",
    "Now that the binary classification model has been assembled, the model will be fitted using the training and testing data."
   ]
  },
  {
   "cell_type": "code",
   "execution_count": 14,
   "id": "643d69bd-d1b6-48bc-9c71-9893aaa0260a",
   "metadata": {},
   "outputs": [],
   "source": [
    "from tensorflow.keras.callbacks import EarlyStopping\n",
    "\n",
    "early_stop = EarlyStopping(monitor = 'val_accuracy', patience = 10, restore_best_weights = True)"
   ]
  },
  {
   "cell_type": "code",
   "execution_count": 15,
   "id": "64f85383-8f39-438d-b7ae-774adf3f8f35",
   "metadata": {},
   "outputs": [
    {
     "name": "stdout",
     "output_type": "stream",
     "text": [
      "Epoch 1/50\n"
     ]
    },
    {
     "name": "stderr",
     "output_type": "stream",
     "text": [
      "2025-05-17 15:25:07.513187: W tensorflow/core/platform/profile_utils/cpu_utils.cc:128] Failed to get CPU frequency: 0 Hz\n"
     ]
    },
    {
     "name": "stdout",
     "output_type": "stream",
     "text": [
      "217/217 [==============================] - 0s 685us/step - loss: 0.5268 - accuracy: 0.8081 - val_loss: 0.3710 - val_accuracy: 0.9120\n",
      "Epoch 2/50\n",
      "217/217 [==============================] - 0s 384us/step - loss: 0.3079 - accuracy: 0.9057 - val_loss: 0.2489 - val_accuracy: 0.9169\n",
      "Epoch 3/50\n",
      "217/217 [==============================] - 0s 376us/step - loss: 0.2208 - accuracy: 0.9221 - val_loss: 0.1854 - val_accuracy: 0.9446\n",
      "Epoch 4/50\n",
      "217/217 [==============================] - 0s 388us/step - loss: 0.1703 - accuracy: 0.9538 - val_loss: 0.1457 - val_accuracy: 0.9742\n",
      "Epoch 5/50\n",
      "217/217 [==============================] - 0s 382us/step - loss: 0.1370 - accuracy: 0.9741 - val_loss: 0.1182 - val_accuracy: 0.9822\n",
      "Epoch 6/50\n",
      "217/217 [==============================] - 0s 401us/step - loss: 0.1136 - accuracy: 0.9809 - val_loss: 0.0985 - val_accuracy: 0.9852\n",
      "Epoch 7/50\n",
      "217/217 [==============================] - 0s 381us/step - loss: 0.0964 - accuracy: 0.9840 - val_loss: 0.0838 - val_accuracy: 0.9895\n",
      "Epoch 8/50\n",
      "217/217 [==============================] - 0s 378us/step - loss: 0.0830 - accuracy: 0.9858 - val_loss: 0.0724 - val_accuracy: 0.9908\n",
      "Epoch 9/50\n",
      "217/217 [==============================] - 0s 379us/step - loss: 0.0727 - accuracy: 0.9889 - val_loss: 0.0631 - val_accuracy: 0.9945\n",
      "Epoch 10/50\n",
      "217/217 [==============================] - 0s 384us/step - loss: 0.0642 - accuracy: 0.9903 - val_loss: 0.0556 - val_accuracy: 0.9963\n",
      "Epoch 11/50\n",
      "217/217 [==============================] - 0s 374us/step - loss: 0.0571 - accuracy: 0.9911 - val_loss: 0.0494 - val_accuracy: 0.9969\n",
      "Epoch 12/50\n",
      "217/217 [==============================] - 0s 394us/step - loss: 0.0513 - accuracy: 0.9922 - val_loss: 0.0441 - val_accuracy: 0.9975\n",
      "Epoch 13/50\n",
      "217/217 [==============================] - 0s 374us/step - loss: 0.0463 - accuracy: 0.9938 - val_loss: 0.0397 - val_accuracy: 0.9988\n",
      "Epoch 14/50\n",
      "217/217 [==============================] - 0s 382us/step - loss: 0.0419 - accuracy: 0.9954 - val_loss: 0.0358 - val_accuracy: 0.9988\n",
      "Epoch 15/50\n",
      "217/217 [==============================] - 0s 378us/step - loss: 0.0382 - accuracy: 0.9957 - val_loss: 0.0324 - val_accuracy: 0.9988\n",
      "Epoch 16/50\n",
      "217/217 [==============================] - 0s 375us/step - loss: 0.0348 - accuracy: 0.9958 - val_loss: 0.0294 - val_accuracy: 0.9988\n",
      "Epoch 17/50\n",
      "217/217 [==============================] - 0s 374us/step - loss: 0.0319 - accuracy: 0.9962 - val_loss: 0.0268 - val_accuracy: 0.9994\n",
      "Epoch 18/50\n",
      "217/217 [==============================] - 0s 374us/step - loss: 0.0293 - accuracy: 0.9968 - val_loss: 0.0245 - val_accuracy: 0.9994\n",
      "Epoch 19/50\n",
      "217/217 [==============================] - 0s 373us/step - loss: 0.0269 - accuracy: 0.9974 - val_loss: 0.0224 - val_accuracy: 0.9994\n",
      "Epoch 20/50\n",
      "217/217 [==============================] - 0s 374us/step - loss: 0.0248 - accuracy: 0.9980 - val_loss: 0.0205 - val_accuracy: 0.9994\n",
      "Epoch 21/50\n",
      "217/217 [==============================] - 0s 372us/step - loss: 0.0229 - accuracy: 0.9980 - val_loss: 0.0189 - val_accuracy: 0.9994\n",
      "Epoch 22/50\n",
      "217/217 [==============================] - 0s 372us/step - loss: 0.0212 - accuracy: 0.9983 - val_loss: 0.0174 - val_accuracy: 0.9994\n",
      "Epoch 23/50\n",
      "217/217 [==============================] - 0s 372us/step - loss: 0.0196 - accuracy: 0.9985 - val_loss: 0.0160 - val_accuracy: 0.9994\n",
      "Epoch 24/50\n",
      "217/217 [==============================] - 0s 372us/step - loss: 0.0182 - accuracy: 0.9988 - val_loss: 0.0147 - val_accuracy: 0.9994\n",
      "Epoch 25/50\n",
      "217/217 [==============================] - 0s 374us/step - loss: 0.0168 - accuracy: 0.9989 - val_loss: 0.0136 - val_accuracy: 1.0000\n",
      "Epoch 26/50\n",
      "217/217 [==============================] - 0s 375us/step - loss: 0.0156 - accuracy: 0.9992 - val_loss: 0.0126 - val_accuracy: 1.0000\n",
      "Epoch 27/50\n",
      "217/217 [==============================] - 0s 375us/step - loss: 0.0145 - accuracy: 0.9994 - val_loss: 0.0116 - val_accuracy: 1.0000\n",
      "Epoch 28/50\n",
      "217/217 [==============================] - 0s 375us/step - loss: 0.0135 - accuracy: 0.9994 - val_loss: 0.0108 - val_accuracy: 1.0000\n",
      "Epoch 29/50\n",
      "217/217 [==============================] - 0s 373us/step - loss: 0.0126 - accuracy: 0.9994 - val_loss: 0.0100 - val_accuracy: 1.0000\n",
      "Epoch 30/50\n",
      "217/217 [==============================] - 0s 373us/step - loss: 0.0117 - accuracy: 0.9994 - val_loss: 0.0092 - val_accuracy: 1.0000\n",
      "Epoch 31/50\n",
      "217/217 [==============================] - 0s 379us/step - loss: 0.0109 - accuracy: 0.9995 - val_loss: 0.0086 - val_accuracy: 1.0000\n",
      "Epoch 32/50\n",
      "217/217 [==============================] - 0s 373us/step - loss: 0.0101 - accuracy: 0.9994 - val_loss: 0.0080 - val_accuracy: 1.0000\n",
      "Epoch 33/50\n",
      "217/217 [==============================] - 0s 372us/step - loss: 0.0094 - accuracy: 0.9995 - val_loss: 0.0074 - val_accuracy: 1.0000\n",
      "Epoch 34/50\n",
      "217/217 [==============================] - 0s 372us/step - loss: 0.0088 - accuracy: 0.9997 - val_loss: 0.0069 - val_accuracy: 1.0000\n",
      "Epoch 35/50\n",
      "217/217 [==============================] - 0s 374us/step - loss: 0.0083 - accuracy: 0.9998 - val_loss: 0.0064 - val_accuracy: 1.0000\n",
      "CPU times: user 3.69 s, sys: 516 ms, total: 4.21 s\n",
      "Wall time: 3.3 s\n"
     ]
    }
   ],
   "source": [
    "%%time\n",
    "%%capture\n",
    "hist = model.fit(x_train, y_train, validation_data = (x_test, y_test), epochs = 50, batch_size = 30, callbacks = [early_stop])"
   ]
  },
  {
   "cell_type": "markdown",
   "id": "e64ea998-52e0-47cb-abe7-8eb076b4551c",
   "metadata": {},
   "source": [
    "## Visualizing the Base Model Results\n",
    "\n",
    "We will utilize a confusion matrix to determine the base model's accuracy in correctly assigning mushrooms to their associated target label, poisonous or edible. "
   ]
  },
  {
   "cell_type": "code",
   "execution_count": 16,
   "id": "bed819d9-317b-4b6d-b27f-45d267d7a12a",
   "metadata": {},
   "outputs": [
    {
     "name": "stdout",
     "output_type": "stream",
     "text": [
      "51/51 [==============================] - 0s 236us/step\n"
     ]
    },
    {
     "data": {
      "text/plain": [
       "<sklearn.metrics._plot.confusion_matrix.ConfusionMatrixDisplay at 0x1547d0460>"
      ]
     },
     "execution_count": 16,
     "metadata": {},
     "output_type": "execute_result"
    },
    {
     "data": {
      "image/png": "[encoded data removed]",
      "text/plain": [
       "<Figure size 640x480 with 2 Axes>"
      ]
     },
     "metadata": {},
     "output_type": "display_data"
    }
   ],
   "source": [
    "from sklearn.metrics import ConfusionMatrixDisplay as cmd\n",
    "\n",
    "sns.reset_orig()\n",
    "y_predicted = model.predict(x_test) > 0.5\n",
    "labels = ['Poisonous', 'Edible']\n",
    "cmd.from_predictions(y_test, y_predicted, display_labels = labels, cmap = 'Blues', xticks_rotation = 'vertical')"
   ]
  },
  {
   "cell_type": "code",
   "execution_count": 17,
   "id": "20cbde0d-0ea4-4746-b10c-2093ba604195",
   "metadata": {},
   "outputs": [
    {
     "name": "stdout",
     "output_type": "stream",
     "text": [
      "204/204 [==============================] - 0s 287us/step - loss: 0.0161 - accuracy: 0.9991\n",
      "51/51 [==============================] - 0s 280us/step - loss: 0.0136 - accuracy: 1.0000\n"
     ]
    }
   ],
   "source": [
    "train_accuracy = model.evaluate(x_train, y_train)\n",
    "test_accuracy = model.evaluate(x_test, y_test)"
   ]
  },
  {
   "cell_type": "code",
   "execution_count": 18,
   "id": "5f4b416a-2e9d-4c12-9e59-95de566a7a0c",
   "metadata": {},
   "outputs": [
    {
     "data": {
      "text/plain": [
       "[]"
      ]
     },
     "execution_count": 18,
     "metadata": {},
     "output_type": "execute_result"
    },
    {
     "data": {
      "image/png": "[encoded data removed]",
      "text/plain": [
       "<Figure size 640x480 with 1 Axes>"
      ]
     },
     "metadata": {},
     "output_type": "display_data"
    }
   ],
   "source": [
    "sns.set()\n",
    "\n",
    "acc = hist.history['loss']\n",
    "val = hist.history['val_loss']\n",
    "epochs = range(1, len(acc) + 1)\n",
    "\n",
    "plt.plot(epochs, acc, '-', label = 'Training loss')\n",
    "plt.plot(epochs, val, ':', label = 'Validation loss')\n",
    "plt.title('Training and Validation Loss')\n",
    "plt.xlabel('Epoch')\n",
    "plt.ylabel('Loss')\n",
    "plt.legend(loc = 'upper right')\n",
    "plt.plot()"
   ]
  },
  {
   "cell_type": "markdown",
   "id": "6aabb39c-33a6-485b-82b5-721fbbdca23c",
   "metadata": {},
   "source": [
    "Our Base model preforms, as expected, with 100% accuracy in classifying the unseen mushrooms to the correct toxicity level. "
   ]
  },
  {
   "cell_type": "markdown",
   "id": "56c673d6-99bc-4d9c-a23e-42e57b8859c9",
   "metadata": {},
   "source": [
    "# PCA (Principal Component Analysis) Model\n",
    "\n",
    "We will repeat the model ensembly process (although some steps are not neccessary) to build a new Sequential Neural Network model using a PCA version of our mushroom data. Applying a Principal Component Analysis (PCA) to the dataset will reduce the dimensions of the data (i.e., reduce columns) but will retain the information held within those data structures. We will retain 95% of the variance within the data for PCA application. As stated, the PCA model process will begin with transforming the mushroom features in **x_train** and **x_test**, reducing its dimensions. "
   ]
  },
  {
   "cell_type": "code",
   "execution_count": 19,
   "id": "26a0484c-44b4-4a40-87ea-f58de764d164",
   "metadata": {},
   "outputs": [
    {
     "data": {
      "text/plain": [
       "array([[0., 0., 0., ..., 0., 0., 0.],\n",
       "       [0., 0., 0., ..., 0., 0., 0.],\n",
       "       [0., 0., 0., ..., 0., 0., 0.],\n",
       "       ...,\n",
       "       [0., 0., 0., ..., 0., 0., 0.],\n",
       "       [0., 0., 1., ..., 0., 0., 0.],\n",
       "       [0., 0., 0., ..., 0., 0., 0.]])"
      ]
     },
     "execution_count": 19,
     "metadata": {},
     "output_type": "execute_result"
    }
   ],
   "source": [
    "x_train"
   ]
  },
  {
   "cell_type": "code",
   "execution_count": 20,
   "id": "c4974227-3463-46e9-b6ac-35236cbdc3a6",
   "metadata": {},
   "outputs": [],
   "source": [
    "from sklearn.decomposition import PCA\n",
    "\n",
    "# instantiate PCA class\n",
    "pca = PCA(n_components = 0.95, random_state = 0)\n",
    "\n",
    "# PCA x_train\n",
    "pca_x_train = pca.fit_transform(x_train)\n",
    "\n",
    "# PCA x_test\n",
    "pca_x_test = pca.transform(x_test)\n"
   ]
  },
  {
   "cell_type": "markdown",
   "id": "35d1121b-c707-4089-b85a-42a653bf96f2",
   "metadata": {},
   "source": [
    "We will now assemble the Sequential Neural Network for binary classification using the PCA data. After many tests and model/fitting adjustments, the highest validation accuracy that was achieved by the model was ~99% for the PCA data. As stated previously, the PCA model required an additional layer containing **2 neurons** and **relu activation** in order to achieve perfect accuracy. \n",
    "\n",
    "Additionally, since we reduced the dimensions of the mushroom dataset from PCA, the **input_dim** parameter will also be different. This is due to the fact that PCA is a method for **reducing dimensions**, specifically in reducing the number of columns. This method of data transformation can help with a machine learning model's efficiency (i.e., increase speed) and aid in generalization, thus reducing the risk of overfitting.\n",
    "\n",
    "In the code block below, the PCA data now contains **40** columns, rather than **116 columns** seen in the data used for the original model which was the result of One-Hot Encoding. Therefore, this requires the **input_dim** to be set to **40**."
   ]
  },
  {
   "cell_type": "code",
   "execution_count": 21,
   "id": "4b57f99a-547e-4e2e-9f27-72574b2cd734",
   "metadata": {},
   "outputs": [
    {
     "data": {
      "text/plain": [
       "(6499, 40)"
      ]
     },
     "execution_count": 21,
     "metadata": {},
     "output_type": "execute_result"
    }
   ],
   "source": [
    "pca_x_train.shape"
   ]
  },
  {
   "cell_type": "code",
   "execution_count": 22,
   "id": "725c400b-4f37-4479-a35f-c72f0c494a3f",
   "metadata": {},
   "outputs": [],
   "source": [
    "# building the PCA binary classification neural network\n",
    "pca_model = Sequential()\n",
    "pca_model.add(Dense(2, activation = 'relu', input_dim = 40))\n",
    "pca_model.add(Dense(1, activation = 'sigmoid'))\n",
    "\n",
    "\n",
    "# compile neural network model\n",
    "pca_model.compile(loss = 'binary_crossentropy', optimizer = 'adam', metrics = ['accuracy'])"
   ]
  },
  {
   "cell_type": "code",
   "execution_count": 23,
   "id": "ffadb3f1-750f-4a66-97e3-2f9bd31d812d",
   "metadata": {},
   "outputs": [
    {
     "name": "stdout",
     "output_type": "stream",
     "text": [
      "Model: \"sequential_1\"\n",
      "_________________________________________________________________\n",
      " Layer (type)                Output Shape              Param #   \n",
      "=================================================================\n",
      " dense_1 (Dense)             (None, 2)                 82        \n",
      "                                                                 \n",
      " dense_2 (Dense)             (None, 1)                 3         \n",
      "                                                                 \n",
      "=================================================================\n",
      "Total params: 85\n",
      "Trainable params: 85\n",
      "Non-trainable params: 0\n",
      "_________________________________________________________________\n"
     ]
    }
   ],
   "source": [
    "pca_model.summary()"
   ]
  },
  {
   "cell_type": "markdown",
   "id": "b28f554f-19fd-4713-9746-666da31aac9b",
   "metadata": {},
   "source": [
    "The PCA neural network model possessed 85 trainable parameters."
   ]
  },
  {
   "cell_type": "markdown",
   "id": "d79e2d11-1bff-4fc3-ba30-a5f6e939bc5e",
   "metadata": {},
   "source": [
    "### Fitting the PCA Model\n",
    "\n",
    "Once again, we will fit the PCA neural network model using the same parameters set in the training of the base model."
   ]
  },
  {
   "cell_type": "code",
   "execution_count": 24,
   "id": "e2f204ff-1f2c-418d-8acb-bdaaead7c647",
   "metadata": {},
   "outputs": [
    {
     "name": "stdout",
     "output_type": "stream",
     "text": [
      "CPU times: user 5.06 s, sys: 677 ms, total: 5.74 s\n",
      "Wall time: 4.49 s\n"
     ]
    }
   ],
   "source": [
    "%%time\n",
    "%%capture\n",
    "hist = pca_model.fit(pca_x_train, y_train, validation_data = (pca_x_test, y_test), epochs = 50, batch_size = 30, callbacks = [early_stop])"
   ]
  },
  {
   "cell_type": "markdown",
   "id": "80f85304-be6a-40b7-a14c-cbe5407381db",
   "metadata": {},
   "source": [
    "## Visualizing PCA Model Results\n",
    "\n",
    "We will use a confusion matrix, similar to before, to see how accurately the PCA model classifys mushrooms to their correct target label (poisonous or edible).\n",
    "\n",
    "(If your results do not show perfect accuracy, restart the kernel and run all cells again.)"
   ]
  },
  {
   "cell_type": "code",
   "execution_count": 25,
   "id": "cb09fc4d-d7ac-4b3b-a02f-6ec43ff84e0b",
   "metadata": {},
   "outputs": [
    {
     "name": "stdout",
     "output_type": "stream",
     "text": [
      "51/51 [==============================] - 0s 246us/step\n"
     ]
    },
    {
     "data": {
      "text/plain": [
       "<sklearn.metrics._plot.confusion_matrix.ConfusionMatrixDisplay at 0x1550a3fa0>"
      ]
     },
     "execution_count": 25,
     "metadata": {},
     "output_type": "execute_result"
    },
    {
     "data": {
      "image/png": "[encoded data removed]",
      "text/plain": [
       "<Figure size 640x480 with 2 Axes>"
      ]
     },
     "metadata": {},
     "output_type": "display_data"
    }
   ],
   "source": [
    "from sklearn.metrics import ConfusionMatrixDisplay as cmd\n",
    "\n",
    "sns.reset_orig()\n",
    "y_predicted = pca_model.predict(pca_x_test) > 0.5\n",
    "labels = ['Poisonous', 'Edible']\n",
    "cmd.from_predictions(y_test, y_predicted, display_labels = labels, cmap = 'Blues', xticks_rotation = 'vertical')"
   ]
  },
  {
   "cell_type": "code",
   "execution_count": 26,
   "id": "ee10a9f9-993e-4bc4-b4f3-32cb0658246e",
   "metadata": {},
   "outputs": [
    {
     "name": "stdout",
     "output_type": "stream",
     "text": [
      "204/204 [==============================] - 0s 260us/step - loss: 0.0073 - accuracy: 0.9997\n",
      "51/51 [==============================] - 0s 268us/step - loss: 0.0069 - accuracy: 1.0000\n"
     ]
    }
   ],
   "source": [
    "train_accuracy = pca_model.evaluate(pca_x_train, y_train)\n",
    "test_accuracy = pca_model.evaluate(pca_x_test, y_test)"
   ]
  },
  {
   "cell_type": "code",
   "execution_count": 27,
   "id": "a6de580c-6f35-4578-ae86-99599aa75d29",
   "metadata": {},
   "outputs": [
    {
     "data": {
      "text/plain": [
       "[]"
      ]
     },
     "execution_count": 27,
     "metadata": {},
     "output_type": "execute_result"
    },
    {
     "data": {
      "image/png": "[encoded data removed]",
      "text/plain": [
       "<Figure size 640x480 with 1 Axes>"
      ]
     },
     "metadata": {},
     "output_type": "display_data"
    }
   ],
   "source": [
    "sns.set()\n",
    "\n",
    "acc = hist.history['loss']\n",
    "val = hist.history['val_loss']\n",
    "epochs = range(1, len(acc) + 1)\n",
    "\n",
    "plt.plot(epochs, acc, '-', label = 'Training loss')\n",
    "plt.plot(epochs, val, ':', label = 'Validation loss')\n",
    "plt.title('Training and Validation Loss')\n",
    "plt.xlabel('Epoch')\n",
    "plt.ylabel('Loss')\n",
    "plt.legend(loc = 'upper right')\n",
    "plt.plot()"
   ]
  },
  {
   "cell_type": "markdown",
   "id": "668235b8-9b82-4001-a6a3-c32657b879d7",
   "metadata": {},
   "source": [
    "Once again, our PCA model achieves the desired accuracy of 100%. \n",
    "\n",
    "Although, it can be stated that the PCA model may generalize better to mushrooms dissimilar to the mushrooms present in the training set due to the data transformation."
   ]
  },
  {
   "cell_type": "markdown",
   "id": "20de17da-fa16-4f0d-a985-7089deaf4379",
   "metadata": {},
   "source": [
    "# The Survival Model\n",
    "\n",
    "The last model that will be prepared and assembled is the **Survival model**. As alluded to previously, this model will have the same data structure as the Base model, exluding the **veil_type** and **ring_type** mushrooms features. The veil types includes options of \"universal\" or \"partial\", whereas the ring types include options such as \"cobwebby\", \"evanescent\", \"flaring\", and more (see data dictionary for all options). While some of these charateristics could be deduced, for experimental purposes we will exclude these mushroom attributes. All other listed features about the mushroom can be gathered from the mushroom itself or the environment it was found in.\n",
    "\n",
    "Again, we will be One-Hot Encoding the feaures and Label Encoding the target label (**class**) to ensure the neural network model can read the data. Prior to such data transformations, the first mushroom observation in the dataset will be excluded and saved to test the model post assembly. Although this form of model testing is already achieved when fitting the model to the train and test sets, I wanted to simulate a new mushroom sample being tested, as would be done in the natural context of the Survival model."
   ]
  },
  {
   "cell_type": "code",
   "execution_count": 28,
   "id": "96511821-d154-43a8-a761-7c844a03e4b5",
   "metadata": {},
   "outputs": [
    {
     "data": {
      "text/html": [
       "<div>\n",
       "<style scoped>\n",
       "    .dataframe tbody tr th:only-of-type {\n",
       "        vertical-align: middle;\n",
       "    }\n",
       "\n",
       "    .dataframe tbody tr th {\n",
       "        vertical-align: top;\n",
       "    }\n",
       "\n",
       "    .dataframe thead th {\n",
       "        text-align: right;\n",
       "    }\n",
       "</style>\n",
       "<table border=\"1\" class=\"dataframe\">\n",
       "  <thead>\n",
       "    <tr style=\"text-align: right;\">\n",
       "      <th></th>\n",
       "      <th>class</th>\n",
       "      <th>cap_shape</th>\n",
       "      <th>cap_surface</th>\n",
       "      <th>cap_color</th>\n",
       "      <th>bruises</th>\n",
       "      <th>odor</th>\n",
       "      <th>gill_attachment</th>\n",
       "      <th>gill_spacing</th>\n",
       "      <th>gill_size</th>\n",
       "      <th>gill_color</th>\n",
       "      <th>stalk_shape</th>\n",
       "      <th>stalk_root</th>\n",
       "      <th>stalk_surface_above_ring</th>\n",
       "      <th>stalk_surface_below_ring</th>\n",
       "      <th>stalk_color_above_ring</th>\n",
       "      <th>stalk_color_below_ring</th>\n",
       "      <th>veil_type</th>\n",
       "      <th>veil_color</th>\n",
       "      <th>ring_number</th>\n",
       "      <th>ring_type</th>\n",
       "      <th>spore_print_color</th>\n",
       "      <th>population</th>\n",
       "      <th>habitat</th>\n",
       "    </tr>\n",
       "  </thead>\n",
       "  <tbody>\n",
       "    <tr>\n",
       "      <th>0</th>\n",
       "      <td>p</td>\n",
       "      <td>x</td>\n",
       "      <td>s</td>\n",
       "      <td>n</td>\n",
       "      <td>t</td>\n",
       "      <td>p</td>\n",
       "      <td>f</td>\n",
       "      <td>c</td>\n",
       "      <td>n</td>\n",
       "      <td>k</td>\n",
       "      <td>e</td>\n",
       "      <td>e</td>\n",
       "      <td>s</td>\n",
       "      <td>s</td>\n",
       "      <td>w</td>\n",
       "      <td>w</td>\n",
       "      <td>p</td>\n",
       "      <td>w</td>\n",
       "      <td>o</td>\n",
       "      <td>p</td>\n",
       "      <td>k</td>\n",
       "      <td>s</td>\n",
       "      <td>u</td>\n",
       "    </tr>\n",
       "    <tr>\n",
       "      <th>1</th>\n",
       "      <td>e</td>\n",
       "      <td>x</td>\n",
       "      <td>s</td>\n",
       "      <td>y</td>\n",
       "      <td>t</td>\n",
       "      <td>a</td>\n",
       "      <td>f</td>\n",
       "      <td>c</td>\n",
       "      <td>b</td>\n",
       "      <td>k</td>\n",
       "      <td>e</td>\n",
       "      <td>c</td>\n",
       "      <td>s</td>\n",
       "      <td>s</td>\n",
       "      <td>w</td>\n",
       "      <td>w</td>\n",
       "      <td>p</td>\n",
       "      <td>w</td>\n",
       "      <td>o</td>\n",
       "      <td>p</td>\n",
       "      <td>n</td>\n",
       "      <td>n</td>\n",
       "      <td>g</td>\n",
       "    </tr>\n",
       "    <tr>\n",
       "      <th>2</th>\n",
       "      <td>e</td>\n",
       "      <td>b</td>\n",
       "      <td>s</td>\n",
       "      <td>w</td>\n",
       "      <td>t</td>\n",
       "      <td>l</td>\n",
       "      <td>f</td>\n",
       "      <td>c</td>\n",
       "      <td>b</td>\n",
       "      <td>n</td>\n",
       "      <td>e</td>\n",
       "      <td>c</td>\n",
       "      <td>s</td>\n",
       "      <td>s</td>\n",
       "      <td>w</td>\n",
       "      <td>w</td>\n",
       "      <td>p</td>\n",
       "      <td>w</td>\n",
       "      <td>o</td>\n",
       "      <td>p</td>\n",
       "      <td>n</td>\n",
       "      <td>n</td>\n",
       "      <td>m</td>\n",
       "    </tr>\n",
       "    <tr>\n",
       "      <th>3</th>\n",
       "      <td>p</td>\n",
       "      <td>x</td>\n",
       "      <td>y</td>\n",
       "      <td>w</td>\n",
       "      <td>t</td>\n",
       "      <td>p</td>\n",
       "      <td>f</td>\n",
       "      <td>c</td>\n",
       "      <td>n</td>\n",
       "      <td>n</td>\n",
       "      <td>e</td>\n",
       "      <td>e</td>\n",
       "      <td>s</td>\n",
       "      <td>s</td>\n",
       "      <td>w</td>\n",
       "      <td>w</td>\n",
       "      <td>p</td>\n",
       "      <td>w</td>\n",
       "      <td>o</td>\n",
       "      <td>p</td>\n",
       "      <td>k</td>\n",
       "      <td>s</td>\n",
       "      <td>u</td>\n",
       "    </tr>\n",
       "    <tr>\n",
       "      <th>4</th>\n",
       "      <td>e</td>\n",
       "      <td>x</td>\n",
       "      <td>s</td>\n",
       "      <td>g</td>\n",
       "      <td>f</td>\n",
       "      <td>n</td>\n",
       "      <td>f</td>\n",
       "      <td>w</td>\n",
       "      <td>b</td>\n",
       "      <td>k</td>\n",
       "      <td>t</td>\n",
       "      <td>e</td>\n",
       "      <td>s</td>\n",
       "      <td>s</td>\n",
       "      <td>w</td>\n",
       "      <td>w</td>\n",
       "      <td>p</td>\n",
       "      <td>w</td>\n",
       "      <td>o</td>\n",
       "      <td>e</td>\n",
       "      <td>n</td>\n",
       "      <td>a</td>\n",
       "      <td>g</td>\n",
       "    </tr>\n",
       "    <tr>\n",
       "      <th>...</th>\n",
       "      <td>...</td>\n",
       "      <td>...</td>\n",
       "      <td>...</td>\n",
       "      <td>...</td>\n",
       "      <td>...</td>\n",
       "      <td>...</td>\n",
       "      <td>...</td>\n",
       "      <td>...</td>\n",
       "      <td>...</td>\n",
       "      <td>...</td>\n",
       "      <td>...</td>\n",
       "      <td>...</td>\n",
       "      <td>...</td>\n",
       "      <td>...</td>\n",
       "      <td>...</td>\n",
       "      <td>...</td>\n",
       "      <td>...</td>\n",
       "      <td>...</td>\n",
       "      <td>...</td>\n",
       "      <td>...</td>\n",
       "      <td>...</td>\n",
       "      <td>...</td>\n",
       "      <td>...</td>\n",
       "    </tr>\n",
       "    <tr>\n",
       "      <th>8119</th>\n",
       "      <td>e</td>\n",
       "      <td>k</td>\n",
       "      <td>s</td>\n",
       "      <td>n</td>\n",
       "      <td>f</td>\n",
       "      <td>n</td>\n",
       "      <td>a</td>\n",
       "      <td>c</td>\n",
       "      <td>b</td>\n",
       "      <td>y</td>\n",
       "      <td>e</td>\n",
       "      <td>e</td>\n",
       "      <td>s</td>\n",
       "      <td>s</td>\n",
       "      <td>o</td>\n",
       "      <td>o</td>\n",
       "      <td>p</td>\n",
       "      <td>o</td>\n",
       "      <td>o</td>\n",
       "      <td>p</td>\n",
       "      <td>b</td>\n",
       "      <td>c</td>\n",
       "      <td>l</td>\n",
       "    </tr>\n",
       "    <tr>\n",
       "      <th>8120</th>\n",
       "      <td>e</td>\n",
       "      <td>x</td>\n",
       "      <td>s</td>\n",
       "      <td>n</td>\n",
       "      <td>f</td>\n",
       "      <td>n</td>\n",
       "      <td>a</td>\n",
       "      <td>c</td>\n",
       "      <td>b</td>\n",
       "      <td>y</td>\n",
       "      <td>e</td>\n",
       "      <td>e</td>\n",
       "      <td>s</td>\n",
       "      <td>s</td>\n",
       "      <td>o</td>\n",
       "      <td>o</td>\n",
       "      <td>p</td>\n",
       "      <td>n</td>\n",
       "      <td>o</td>\n",
       "      <td>p</td>\n",
       "      <td>b</td>\n",
       "      <td>v</td>\n",
       "      <td>l</td>\n",
       "    </tr>\n",
       "    <tr>\n",
       "      <th>8121</th>\n",
       "      <td>e</td>\n",
       "      <td>f</td>\n",
       "      <td>s</td>\n",
       "      <td>n</td>\n",
       "      <td>f</td>\n",
       "      <td>n</td>\n",
       "      <td>a</td>\n",
       "      <td>c</td>\n",
       "      <td>b</td>\n",
       "      <td>n</td>\n",
       "      <td>e</td>\n",
       "      <td>e</td>\n",
       "      <td>s</td>\n",
       "      <td>s</td>\n",
       "      <td>o</td>\n",
       "      <td>o</td>\n",
       "      <td>p</td>\n",
       "      <td>o</td>\n",
       "      <td>o</td>\n",
       "      <td>p</td>\n",
       "      <td>b</td>\n",
       "      <td>c</td>\n",
       "      <td>l</td>\n",
       "    </tr>\n",
       "    <tr>\n",
       "      <th>8122</th>\n",
       "      <td>p</td>\n",
       "      <td>k</td>\n",
       "      <td>y</td>\n",
       "      <td>n</td>\n",
       "      <td>f</td>\n",
       "      <td>y</td>\n",
       "      <td>f</td>\n",
       "      <td>c</td>\n",
       "      <td>n</td>\n",
       "      <td>b</td>\n",
       "      <td>t</td>\n",
       "      <td>b</td>\n",
       "      <td>s</td>\n",
       "      <td>k</td>\n",
       "      <td>w</td>\n",
       "      <td>w</td>\n",
       "      <td>p</td>\n",
       "      <td>w</td>\n",
       "      <td>o</td>\n",
       "      <td>e</td>\n",
       "      <td>w</td>\n",
       "      <td>v</td>\n",
       "      <td>l</td>\n",
       "    </tr>\n",
       "    <tr>\n",
       "      <th>8123</th>\n",
       "      <td>e</td>\n",
       "      <td>x</td>\n",
       "      <td>s</td>\n",
       "      <td>n</td>\n",
       "      <td>f</td>\n",
       "      <td>n</td>\n",
       "      <td>a</td>\n",
       "      <td>c</td>\n",
       "      <td>b</td>\n",
       "      <td>y</td>\n",
       "      <td>e</td>\n",
       "      <td>e</td>\n",
       "      <td>s</td>\n",
       "      <td>s</td>\n",
       "      <td>o</td>\n",
       "      <td>o</td>\n",
       "      <td>p</td>\n",
       "      <td>o</td>\n",
       "      <td>o</td>\n",
       "      <td>p</td>\n",
       "      <td>o</td>\n",
       "      <td>c</td>\n",
       "      <td>l</td>\n",
       "    </tr>\n",
       "  </tbody>\n",
       "</table>\n",
       "<p>8124 rows × 23 columns</p>\n",
       "</div>"
      ],
      "text/plain": [
       "     class cap_shape cap_surface cap_color bruises odor gill_attachment  \\\n",
       "0        p         x           s         n       t    p               f   \n",
       "1        e         x           s         y       t    a               f   \n",
       "2        e         b           s         w       t    l               f   \n",
       "3        p         x           y         w       t    p               f   \n",
       "4        e         x           s         g       f    n               f   \n",
       "...    ...       ...         ...       ...     ...  ...             ...   \n",
       "8119     e         k           s         n       f    n               a   \n",
       "8120     e         x           s         n       f    n               a   \n",
       "8121     e         f           s         n       f    n               a   \n",
       "8122     p         k           y         n       f    y               f   \n",
       "8123     e         x           s         n       f    n               a   \n",
       "\n",
       "     gill_spacing gill_size gill_color stalk_shape stalk_root  \\\n",
       "0               c         n          k           e          e   \n",
       "1               c         b          k           e          c   \n",
       "2               c         b          n           e          c   \n",
       "3               c         n          n           e          e   \n",
       "4               w         b          k           t          e   \n",
       "...           ...       ...        ...         ...        ...   \n",
       "8119            c         b          y           e          e   \n",
       "8120            c         b          y           e          e   \n",
       "8121            c         b          n           e          e   \n",
       "8122            c         n          b           t          b   \n",
       "8123            c         b          y           e          e   \n",
       "\n",
       "     stalk_surface_above_ring stalk_surface_below_ring stalk_color_above_ring  \\\n",
       "0                           s                        s                      w   \n",
       "1                           s                        s                      w   \n",
       "2                           s                        s                      w   \n",
       "3                           s                        s                      w   \n",
       "4                           s                        s                      w   \n",
       "...                       ...                      ...                    ...   \n",
       "8119                        s                        s                      o   \n",
       "8120                        s                        s                      o   \n",
       "8121                        s                        s                      o   \n",
       "8122                        s                        k                      w   \n",
       "8123                        s                        s                      o   \n",
       "\n",
       "     stalk_color_below_ring veil_type veil_color ring_number ring_type  \\\n",
       "0                         w         p          w           o         p   \n",
       "1                         w         p          w           o         p   \n",
       "2                         w         p          w           o         p   \n",
       "3                         w         p          w           o         p   \n",
       "4                         w         p          w           o         e   \n",
       "...                     ...       ...        ...         ...       ...   \n",
       "8119                      o         p          o           o         p   \n",
       "8120                      o         p          n           o         p   \n",
       "8121                      o         p          o           o         p   \n",
       "8122                      w         p          w           o         e   \n",
       "8123                      o         p          o           o         p   \n",
       "\n",
       "     spore_print_color population habitat  \n",
       "0                    k          s       u  \n",
       "1                    n          n       g  \n",
       "2                    n          n       m  \n",
       "3                    k          s       u  \n",
       "4                    n          a       g  \n",
       "...                ...        ...     ...  \n",
       "8119                 b          c       l  \n",
       "8120                 b          v       l  \n",
       "8121                 b          c       l  \n",
       "8122                 w          v       l  \n",
       "8123                 o          c       l  \n",
       "\n",
       "[8124 rows x 23 columns]"
      ]
     },
     "execution_count": 28,
     "metadata": {},
     "output_type": "execute_result"
    }
   ],
   "source": [
    "mushroom_data"
   ]
  },
  {
   "cell_type": "code",
   "execution_count": 29,
   "id": "7497d57f-9e51-490e-b397-96c270763d3e",
   "metadata": {},
   "outputs": [],
   "source": [
    "# taking sample for model testing later\n",
    "sample = mushroom_data.head(1)"
   ]
  },
  {
   "cell_type": "code",
   "execution_count": 30,
   "id": "fbfd09cc-4488-44dc-adb1-29e5a9d46ec6",
   "metadata": {},
   "outputs": [],
   "source": [
    "# mushroom features, minus \"veil_type\", \"ring_type\", and \"class\"\n",
    "features = mushroom_data.drop(['veil_type', 'ring_type', 'class'], axis = 1)\n",
    "\n",
    "# separating target feature\n",
    "target = mushroom_data['class']"
   ]
  },
  {
   "cell_type": "code",
   "execution_count": 31,
   "id": "d969ea6d-2437-471d-adc1-642d1ce54c82",
   "metadata": {},
   "outputs": [
    {
     "data": {
      "text/plain": [
       "(8124, 20)"
      ]
     },
     "execution_count": 31,
     "metadata": {},
     "output_type": "execute_result"
    }
   ],
   "source": [
    "features.shape"
   ]
  },
  {
   "cell_type": "markdown",
   "id": "122cbeca-b4e3-434a-92be-140702065486",
   "metadata": {},
   "source": [
    "### Preparing Survival Model"
   ]
  },
  {
   "cell_type": "code",
   "execution_count": 32,
   "id": "771767b7-0750-46cc-b12e-ca72c7dc13c6",
   "metadata": {},
   "outputs": [],
   "source": [
    "# splitting the data into train and test sets\n",
    "x_train, x_test, y_train, y_test = train_test_split(features, target, test_size = 0.2, random_state = 0)"
   ]
  },
  {
   "cell_type": "code",
   "execution_count": 33,
   "id": "2f6edbe5-45d1-406f-8891-96c735dc1bd2",
   "metadata": {},
   "outputs": [],
   "source": [
    "# # One-Hot Encoding training characteristic features\n",
    "one_encoder = OneHotEncoder(sparse_output = False)\n",
    "\n",
    "survival_x_train = one_encoder.fit_transform(x_train)\n",
    "\n",
    "# One-Hot Encoding testing characteristic features\n",
    "\n",
    "survival_x_test = one_encoder.transform(x_test)"
   ]
  },
  {
   "cell_type": "code",
   "execution_count": 34,
   "id": "35e6710b-1147-4df8-a9fa-ef10f35bad14",
   "metadata": {},
   "outputs": [],
   "source": [
    "# Label Encoding target training feature\n",
    "lab_encoder = LabelEncoder()\n",
    "\n",
    "y_train = lab_encoder.fit_transform(y_train)\n",
    "\n",
    "# Label Encoding target testing feature\n",
    "\n",
    "y_test = lab_encoder.transform(y_test)"
   ]
  },
  {
   "cell_type": "code",
   "execution_count": 35,
   "id": "07d5c72c-5e26-47b8-9dde-b9908e8ee829",
   "metadata": {},
   "outputs": [
    {
     "data": {
      "text/plain": [
       "(6499, 110)"
      ]
     },
     "execution_count": 35,
     "metadata": {},
     "output_type": "execute_result"
    }
   ],
   "source": [
    "survival_x_train.shape"
   ]
  },
  {
   "cell_type": "code",
   "execution_count": 36,
   "id": "d8d2d06c-1b86-4bb0-9dfa-137628d5eec0",
   "metadata": {},
   "outputs": [],
   "source": [
    "# building Survival neural network model\n",
    "survival_model = Sequential()\n",
    "\n",
    "survival_model.add(Dense(1, activation = 'sigmoid', input_dim = 110))\n",
    "\n",
    "survival_model.compile(loss = 'binary_crossentropy', optimizer = 'adam', metrics = ['accuracy'])"
   ]
  },
  {
   "cell_type": "markdown",
   "id": "85972c39-135c-4a6d-a804-c4724a7674a8",
   "metadata": {},
   "source": [
    "### Fitting the Survival Model"
   ]
  },
  {
   "cell_type": "code",
   "execution_count": 37,
   "id": "7b02b446-e89e-44f5-9ac5-ac0e98b595a7",
   "metadata": {},
   "outputs": [
    {
     "name": "stdout",
     "output_type": "stream",
     "text": [
      "CPU times: user 3.56 s, sys: 698 ms, total: 4.26 s\n",
      "Wall time: 3.05 s\n"
     ]
    }
   ],
   "source": [
    "%%time\n",
    "%%capture\n",
    "hist = survival_model.fit(survival_x_train, y_train, validation_data = (survival_x_test, y_test), epochs = 50, batch_size = 30, callbacks = [early_stop])"
   ]
  },
  {
   "cell_type": "markdown",
   "id": "3d669754-7b5b-46c5-894e-d32e1182e904",
   "metadata": {},
   "source": [
    "## Visualizing Survival Model Results"
   ]
  },
  {
   "cell_type": "code",
   "execution_count": 38,
   "id": "d91e1259-bc23-437e-8ea5-e2a777c5a9ba",
   "metadata": {},
   "outputs": [
    {
     "name": "stdout",
     "output_type": "stream",
     "text": [
      "51/51 [==============================] - 0s 239us/step\n"
     ]
    },
    {
     "data": {
      "text/plain": [
       "<sklearn.metrics._plot.confusion_matrix.ConfusionMatrixDisplay at 0x1557dd520>"
      ]
     },
     "execution_count": 38,
     "metadata": {},
     "output_type": "execute_result"
    },
    {
     "data": {
      "image/png": "[encoded data removed]",
      "text/plain": [
       "<Figure size 640x480 with 2 Axes>"
      ]
     },
     "metadata": {},
     "output_type": "display_data"
    }
   ],
   "source": [
    "from sklearn.metrics import ConfusionMatrixDisplay as cmd\n",
    "\n",
    "sns.reset_orig()\n",
    "y_predicted = survival_model.predict(survival_x_test) > 0.5\n",
    "labels = ['Poisonous', 'Edible']\n",
    "cmd.from_predictions(y_test, y_predicted, display_labels = labels, cmap = 'Blues', xticks_rotation = 'vertical')"
   ]
  },
  {
   "cell_type": "code",
   "execution_count": 39,
   "id": "f52d0e4a-af6a-4dce-bb2b-42c116cbcfcf",
   "metadata": {},
   "outputs": [
    {
     "name": "stdout",
     "output_type": "stream",
     "text": [
      "204/204 [==============================] - 0s 257us/step - loss: 0.0200 - accuracy: 0.9977\n",
      "51/51 [==============================] - 0s 266us/step - loss: 0.0169 - accuracy: 1.0000\n"
     ]
    }
   ],
   "source": [
    "train_accuracy = survival_model.evaluate(survival_x_train, y_train)\n",
    "test_accuracy = survival_model.evaluate(survival_x_test, y_test)"
   ]
  },
  {
   "cell_type": "code",
   "execution_count": 40,
   "id": "321a00a9-d314-4662-bcfc-2cbb4446a26c",
   "metadata": {},
   "outputs": [
    {
     "data": {
      "text/plain": [
       "[]"
      ]
     },
     "execution_count": 40,
     "metadata": {},
     "output_type": "execute_result"
    },
    {
     "data": {
      "image/png": "[encoded data removed]",
      "text/plain": [
       "<Figure size 640x480 with 1 Axes>"
      ]
     },
     "metadata": {},
     "output_type": "display_data"
    }
   ],
   "source": [
    "sns.set()\n",
    "\n",
    "acc = hist.history['loss']\n",
    "val = hist.history['val_loss']\n",
    "epochs = range(1, len(acc) + 1)\n",
    "\n",
    "plt.plot(epochs, acc, '-', label = 'Training loss')\n",
    "plt.plot(epochs, val, ':', label = 'Validation loss')\n",
    "plt.title('Training and Validation Loss')\n",
    "plt.xlabel('Epoch')\n",
    "plt.ylabel('Loss')\n",
    "plt.legend(loc = 'upper right')\n",
    "plt.plot()"
   ]
  },
  {
   "cell_type": "markdown",
   "id": "e152e703-ea2b-43a6-b1c6-8e47831c4b0c",
   "metadata": {},
   "source": [
    "The Survival model correctly placed all mushrooms into the correct toxicity group (i.e., 100% accuracy)."
   ]
  },
  {
   "cell_type": "markdown",
   "id": "c2dd3222-77b9-4570-bba0-2124c25c4403",
   "metadata": {},
   "source": [
    "### Testing the \"New\" Mushroom Sample\n",
    "\n",
    "The sample mushroom that we've \"collected\" is noted as being poisonous, seen below with \"p\" under **class**. In order to test the sample, it will need to undergo the same data transformations seen for the Base and Survival models."
   ]
  },
  {
   "cell_type": "code",
   "execution_count": 41,
   "id": "a05c14c0-9764-43b9-80f3-c0f78016d296",
   "metadata": {},
   "outputs": [
    {
     "data": {
      "text/html": [
       "<div>\n",
       "<style scoped>\n",
       "    .dataframe tbody tr th:only-of-type {\n",
       "        vertical-align: middle;\n",
       "    }\n",
       "\n",
       "    .dataframe tbody tr th {\n",
       "        vertical-align: top;\n",
       "    }\n",
       "\n",
       "    .dataframe thead th {\n",
       "        text-align: right;\n",
       "    }\n",
       "</style>\n",
       "<table border=\"1\" class=\"dataframe\">\n",
       "  <thead>\n",
       "    <tr style=\"text-align: right;\">\n",
       "      <th></th>\n",
       "      <th>class</th>\n",
       "      <th>cap_shape</th>\n",
       "      <th>cap_surface</th>\n",
       "      <th>cap_color</th>\n",
       "      <th>bruises</th>\n",
       "      <th>odor</th>\n",
       "      <th>gill_attachment</th>\n",
       "      <th>gill_spacing</th>\n",
       "      <th>gill_size</th>\n",
       "      <th>gill_color</th>\n",
       "      <th>stalk_shape</th>\n",
       "      <th>stalk_root</th>\n",
       "      <th>stalk_surface_above_ring</th>\n",
       "      <th>stalk_surface_below_ring</th>\n",
       "      <th>stalk_color_above_ring</th>\n",
       "      <th>stalk_color_below_ring</th>\n",
       "      <th>veil_type</th>\n",
       "      <th>veil_color</th>\n",
       "      <th>ring_number</th>\n",
       "      <th>ring_type</th>\n",
       "      <th>spore_print_color</th>\n",
       "      <th>population</th>\n",
       "      <th>habitat</th>\n",
       "    </tr>\n",
       "  </thead>\n",
       "  <tbody>\n",
       "    <tr>\n",
       "      <th>0</th>\n",
       "      <td>p</td>\n",
       "      <td>x</td>\n",
       "      <td>s</td>\n",
       "      <td>n</td>\n",
       "      <td>t</td>\n",
       "      <td>p</td>\n",
       "      <td>f</td>\n",
       "      <td>c</td>\n",
       "      <td>n</td>\n",
       "      <td>k</td>\n",
       "      <td>e</td>\n",
       "      <td>e</td>\n",
       "      <td>s</td>\n",
       "      <td>s</td>\n",
       "      <td>w</td>\n",
       "      <td>w</td>\n",
       "      <td>p</td>\n",
       "      <td>w</td>\n",
       "      <td>o</td>\n",
       "      <td>p</td>\n",
       "      <td>k</td>\n",
       "      <td>s</td>\n",
       "      <td>u</td>\n",
       "    </tr>\n",
       "  </tbody>\n",
       "</table>\n",
       "</div>"
      ],
      "text/plain": [
       "  class cap_shape cap_surface cap_color bruises odor gill_attachment  \\\n",
       "0     p         x           s         n       t    p               f   \n",
       "\n",
       "  gill_spacing gill_size gill_color stalk_shape stalk_root  \\\n",
       "0            c         n          k           e          e   \n",
       "\n",
       "  stalk_surface_above_ring stalk_surface_below_ring stalk_color_above_ring  \\\n",
       "0                        s                        s                      w   \n",
       "\n",
       "  stalk_color_below_ring veil_type veil_color ring_number ring_type  \\\n",
       "0                      w         p          w           o         p   \n",
       "\n",
       "  spore_print_color population habitat  \n",
       "0                 k          s       u  "
      ]
     },
     "execution_count": 41,
     "metadata": {},
     "output_type": "execute_result"
    }
   ],
   "source": [
    "sample"
   ]
  },
  {
   "cell_type": "code",
   "execution_count": 42,
   "id": "5ae19bb2-c8c8-4cae-9982-6c8dfb69936f",
   "metadata": {},
   "outputs": [],
   "source": [
    "# preparing sample from earlier for testing\n",
    "sample_label = sample['class']\n",
    "sample_features = sample.drop(['class', 'ring_type', 'veil_type'], axis = 1)\n",
    "\n",
    "\n",
    "\n",
    "sample_label = lab_encoder.transform(sample_label)\n",
    "sample_features = one_encoder.transform(sample_features)\n"
   ]
  },
  {
   "cell_type": "markdown",
   "id": "a9541e46-62ad-4188-9a75-ea1cce263957",
   "metadata": {},
   "source": [
    "### Prediction\n",
    "\n",
    "The model predicts that the sample is indeed **poisonous** as seen when we transform the prediction variable to its original data state, resulting in \"p\" for poison."
   ]
  },
  {
   "cell_type": "code",
   "execution_count": 43,
   "id": "bc43890c-825e-4c1b-97de-1fbb93ab0919",
   "metadata": {},
   "outputs": [
    {
     "name": "stdout",
     "output_type": "stream",
     "text": [
      "1/1 [==============================] - 0s 6ms/step\n"
     ]
    },
    {
     "data": {
      "text/plain": [
       "array([[1]])"
      ]
     },
     "execution_count": 43,
     "metadata": {},
     "output_type": "execute_result"
    }
   ],
   "source": [
    "prediction = (survival_model.predict(sample_features) > 0.50).astype(int)\n",
    "prediction"
   ]
  },
  {
   "cell_type": "code",
   "execution_count": 44,
   "id": "eec22a88-51be-499b-9c39-b6a3cd08f8d5",
   "metadata": {},
   "outputs": [
    {
     "data": {
      "text/plain": [
       "array([1])"
      ]
     },
     "execution_count": 44,
     "metadata": {},
     "output_type": "execute_result"
    }
   ],
   "source": [
    "sample_label"
   ]
  },
  {
   "cell_type": "code",
   "execution_count": 45,
   "id": "7d1ae17e-85e5-4b92-9751-b98d01a4bd97",
   "metadata": {},
   "outputs": [
    {
     "data": {
      "text/plain": [
       "array(['p'], dtype=object)"
      ]
     },
     "execution_count": 45,
     "metadata": {},
     "output_type": "execute_result"
    }
   ],
   "source": [
    "lab_encoder.inverse_transform(prediction)"
   ]
  },
  {
   "cell_type": "markdown",
   "id": "3322bbaa-ba31-4897-a6a3-07c07c9dabb5",
   "metadata": {},
   "source": [
    "# Final Results\n",
    "\n",
    "Based on the results, each model was able to classify the test mushroom sets with **100% accuracy** as desired. However, the PCA model required an additional network layer, containing two neurons, in order to achieve the desired accuracy with the same fitting parameters as the other models. Additionally, the PCA model had a roughly half second faster fitting time than the other model designs. Not surprisingly, the Survival Model was able to correctly identify a poisonous mushroom sample that was excluded from the dataset prior to data preparation. \n",
    "\n",
    "Although overfitting the data is a major concern, the loss visualizations confirm that there is no immediate call for overfitting. This can be seen the line chart visuals as both the loss and validation_loss metrics do not cross and continue their steady descent in parallel. "
   ]
  },
  {
   "cell_type": "markdown",
   "id": "5a028c19-802c-4bf3-b6e3-e126f475b634",
   "metadata": {},
   "source": [
    "# Conclusion\n",
    "\n",
    "When looking at ways to improve upon these models, the model design and infrastructure requires expansion in order to streamline overall operations. This is particularly essential for the Survival model which required the data to be transformed using One-Hot Encoding and Label Encoding before classification could be conducted. To improve effectiveness as a hiking tool, a data pipeline can be developed using sklearn’s pipeline packages along with KerasClassifier, for example, to make the necessary data transformations, execute the model, then receive its prediction upon initial data entry.\n",
    "\n",
    "Additionally, future inquiries could incorporate other mushroom species that are poisonous and edible. As alluded to, the expanding neural network models could then be developed into an app that could classify a mushroom simply by taking a picture of it. This could be done using Convolutional Neural Networks to detect and classify the mushroom in the picture. This app could serve incredibly useful for individuals who do not possess adequate sight or smell to clearly gather mushroom features themselves.\n",
    "\n",
    "Overall, this project incorporated fundamental neural network concepts, along with model variations to see if perfect accuracy was achievable is relatively similar ways. Although very basic, these models can be expanded upon to innovate technology in the niche topic of mushroom identification for practical applications as discussed. \n"
   ]
  }
 ],
 "metadata": {
  "kernelspec": {
   "display_name": "dtsc680",
   "language": "python",
   "name": "dtsc680"
  },
  "language_info": {
   "codemirror_mode": {
    "name": "ipython",
    "version": 3
   },
   "file_extension": ".py",
   "mimetype": "text/x-python",
   "name": "python",
   "nbconvert_exporter": "python",
   "pygments_lexer": "ipython3",
   "version": "3.8.20"
  }
 },
 "nbformat": 4,
 "nbformat_minor": 5
}
